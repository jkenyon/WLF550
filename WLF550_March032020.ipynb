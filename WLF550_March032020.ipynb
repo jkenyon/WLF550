{
 "cells": [
  {
   "cell_type": "markdown",
   "metadata": {},
   "source": [
    "## Creating a Relational Database From Spreadsheets\n",
    "\n",
    "Moving from three CSVs to a small relational database.\n",
    "\n",
    "Download the data here: https://figshare.com/articles/Portal_Project_Teaching_Database/1314459\n",
    "\n",
    "DB Browser for SQLite here: https://sqlitebrowser.org/\n",
    "\n",
    "Lesson Adapted from:\n",
    "http://benbestphd.com/R-ecology-lesson/r-and-sql.html#introduction"
   ]
  },
  {
   "cell_type": "markdown",
   "metadata": {},
   "source": [
    "#### Instructions for libraries"
   ]
  },
  {
   "cell_type": "code",
   "execution_count": 1,
   "metadata": {},
   "outputs": [
    {
     "name": "stdout",
     "output_type": "stream",
     "text": [
      "package 'RSQLite' successfully unpacked and MD5 sums checked\n",
      "\n",
      "The downloaded binary packages are in\n",
      "\tC:\\Users\\jkenyon\\AppData\\Local\\Temp\\RtmpEnklld\\downloaded_packages\n"
     ]
    }
   ],
   "source": [
    "install.packages('RSQLite')"
   ]
  },
  {
   "cell_type": "code",
   "execution_count": 2,
   "metadata": {},
   "outputs": [],
   "source": [
    "library(RSQLite)"
   ]
  },
  {
   "cell_type": "markdown",
   "metadata": {},
   "source": [
    "#### Set your working directory where the data is located, and where we will create the database"
   ]
  },
  {
   "cell_type": "code",
   "execution_count": 3,
   "metadata": {},
   "outputs": [],
   "source": [
    "setwd(\"wlf550_data/March_03/\")"
   ]
  },
  {
   "cell_type": "markdown",
   "metadata": {},
   "source": [
    "#### Reading in data\n",
    "\n",
    "In this case, we have three CSVs: species - with species information; surveys - with observations of species; and plots - information about specific study plots.\n",
    "\n",
    "We will read each CSV/spreadsheet in as its own dataframe."
   ]
  },
  {
   "cell_type": "code",
   "execution_count": 6,
   "metadata": {},
   "outputs": [],
   "source": [
    "species <- read.csv(\"species.csv\", stringsAsFactors=FALSE)\n",
    "surveys <- read.csv(\"surveys.csv\", stringsAsFactors=FALSE)\n",
    "plots <- read.csv(\"plots.csv\", stringsAsFactors=FALSE)"
   ]
  },
  {
   "cell_type": "code",
   "execution_count": 8,
   "metadata": {},
   "outputs": [
    {
     "data": {
      "text/html": [
       "54"
      ],
      "text/latex": [
       "54"
      ],
      "text/markdown": [
       "54"
      ],
      "text/plain": [
       "[1] 54"
      ]
     },
     "metadata": {},
     "output_type": "display_data"
    },
    {
     "data": {
      "text/html": [
       "<table>\n",
       "<thead><tr><th scope=col>species_id</th><th scope=col>genus</th><th scope=col>species</th><th scope=col>taxa</th></tr></thead>\n",
       "<tbody>\n",
       "\t<tr><td>AB              </td><td>Amphispiza      </td><td>bilineata       </td><td>Bird            </td></tr>\n",
       "\t<tr><td>AH              </td><td>Ammospermophilus</td><td>harrisi         </td><td>Rodent          </td></tr>\n",
       "\t<tr><td>AS              </td><td>Ammodramus      </td><td>savannarum      </td><td>Bird            </td></tr>\n",
       "\t<tr><td>BA              </td><td>Baiomys         </td><td>taylori         </td><td>Rodent          </td></tr>\n",
       "\t<tr><td>CB              </td><td>Campylorhynchus </td><td>brunneicapillus </td><td>Bird            </td></tr>\n",
       "\t<tr><td>CM              </td><td>Calamospiza     </td><td>melanocorys     </td><td>Bird            </td></tr>\n",
       "</tbody>\n",
       "</table>\n"
      ],
      "text/latex": [
       "\\begin{tabular}{r|llll}\n",
       " species\\_id & genus & species & taxa\\\\\n",
       "\\hline\n",
       "\t AB               & Amphispiza       & bilineata        & Bird            \\\\\n",
       "\t AH               & Ammospermophilus & harrisi          & Rodent          \\\\\n",
       "\t AS               & Ammodramus       & savannarum       & Bird            \\\\\n",
       "\t BA               & Baiomys          & taylori          & Rodent          \\\\\n",
       "\t CB               & Campylorhynchus  & brunneicapillus  & Bird            \\\\\n",
       "\t CM               & Calamospiza      & melanocorys      & Bird            \\\\\n",
       "\\end{tabular}\n"
      ],
      "text/markdown": [
       "\n",
       "species_id | genus | species | taxa | \n",
       "|---|---|---|---|---|---|\n",
       "| AB               | Amphispiza       | bilineata        | Bird             | \n",
       "| AH               | Ammospermophilus | harrisi          | Rodent           | \n",
       "| AS               | Ammodramus       | savannarum       | Bird             | \n",
       "| BA               | Baiomys          | taylori          | Rodent           | \n",
       "| CB               | Campylorhynchus  | brunneicapillus  | Bird             | \n",
       "| CM               | Calamospiza      | melanocorys      | Bird             | \n",
       "\n",
       "\n"
      ],
      "text/plain": [
       "  species_id genus            species         taxa  \n",
       "1 AB         Amphispiza       bilineata       Bird  \n",
       "2 AH         Ammospermophilus harrisi         Rodent\n",
       "3 AS         Ammodramus       savannarum      Bird  \n",
       "4 BA         Baiomys          taylori         Rodent\n",
       "5 CB         Campylorhynchus  brunneicapillus Bird  \n",
       "6 CM         Calamospiza      melanocorys     Bird  "
      ]
     },
     "metadata": {},
     "output_type": "display_data"
    },
    {
     "data": {
      "text/html": [
       "35549"
      ],
      "text/latex": [
       "35549"
      ],
      "text/markdown": [
       "35549"
      ],
      "text/plain": [
       "[1] 35549"
      ]
     },
     "metadata": {},
     "output_type": "display_data"
    },
    {
     "data": {
      "text/html": [
       "<table>\n",
       "<thead><tr><th scope=col>record_id</th><th scope=col>month</th><th scope=col>day</th><th scope=col>year</th><th scope=col>plot_id</th><th scope=col>species_id</th><th scope=col>sex</th><th scope=col>hindfoot_length</th><th scope=col>weight</th></tr></thead>\n",
       "<tbody>\n",
       "\t<tr><td>1   </td><td>7   </td><td>16  </td><td>1977</td><td>2   </td><td>NL  </td><td>M   </td><td>32  </td><td>NA  </td></tr>\n",
       "\t<tr><td>2   </td><td>7   </td><td>16  </td><td>1977</td><td>3   </td><td>NL  </td><td>M   </td><td>33  </td><td>NA  </td></tr>\n",
       "\t<tr><td>3   </td><td>7   </td><td>16  </td><td>1977</td><td>2   </td><td>DM  </td><td>F   </td><td>37  </td><td>NA  </td></tr>\n",
       "\t<tr><td>4   </td><td>7   </td><td>16  </td><td>1977</td><td>7   </td><td>DM  </td><td>M   </td><td>36  </td><td>NA  </td></tr>\n",
       "\t<tr><td>5   </td><td>7   </td><td>16  </td><td>1977</td><td>3   </td><td>DM  </td><td>M   </td><td>35  </td><td>NA  </td></tr>\n",
       "\t<tr><td>6   </td><td>7   </td><td>16  </td><td>1977</td><td>1   </td><td>PF  </td><td>M   </td><td>14  </td><td>NA  </td></tr>\n",
       "</tbody>\n",
       "</table>\n"
      ],
      "text/latex": [
       "\\begin{tabular}{r|lllllllll}\n",
       " record\\_id & month & day & year & plot\\_id & species\\_id & sex & hindfoot\\_length & weight\\\\\n",
       "\\hline\n",
       "\t 1    & 7    & 16   & 1977 & 2    & NL   & M    & 32   & NA  \\\\\n",
       "\t 2    & 7    & 16   & 1977 & 3    & NL   & M    & 33   & NA  \\\\\n",
       "\t 3    & 7    & 16   & 1977 & 2    & DM   & F    & 37   & NA  \\\\\n",
       "\t 4    & 7    & 16   & 1977 & 7    & DM   & M    & 36   & NA  \\\\\n",
       "\t 5    & 7    & 16   & 1977 & 3    & DM   & M    & 35   & NA  \\\\\n",
       "\t 6    & 7    & 16   & 1977 & 1    & PF   & M    & 14   & NA  \\\\\n",
       "\\end{tabular}\n"
      ],
      "text/markdown": [
       "\n",
       "record_id | month | day | year | plot_id | species_id | sex | hindfoot_length | weight | \n",
       "|---|---|---|---|---|---|\n",
       "| 1    | 7    | 16   | 1977 | 2    | NL   | M    | 32   | NA   | \n",
       "| 2    | 7    | 16   | 1977 | 3    | NL   | M    | 33   | NA   | \n",
       "| 3    | 7    | 16   | 1977 | 2    | DM   | F    | 37   | NA   | \n",
       "| 4    | 7    | 16   | 1977 | 7    | DM   | M    | 36   | NA   | \n",
       "| 5    | 7    | 16   | 1977 | 3    | DM   | M    | 35   | NA   | \n",
       "| 6    | 7    | 16   | 1977 | 1    | PF   | M    | 14   | NA   | \n",
       "\n",
       "\n"
      ],
      "text/plain": [
       "  record_id month day year plot_id species_id sex hindfoot_length weight\n",
       "1 1         7     16  1977 2       NL         M   32              NA    \n",
       "2 2         7     16  1977 3       NL         M   33              NA    \n",
       "3 3         7     16  1977 2       DM         F   37              NA    \n",
       "4 4         7     16  1977 7       DM         M   36              NA    \n",
       "5 5         7     16  1977 3       DM         M   35              NA    \n",
       "6 6         7     16  1977 1       PF         M   14              NA    "
      ]
     },
     "metadata": {},
     "output_type": "display_data"
    },
    {
     "data": {
      "text/html": [
       "24"
      ],
      "text/latex": [
       "24"
      ],
      "text/markdown": [
       "24"
      ],
      "text/plain": [
       "[1] 24"
      ]
     },
     "metadata": {},
     "output_type": "display_data"
    },
    {
     "data": {
      "text/html": [
       "<table>\n",
       "<thead><tr><th scope=col>plot_id</th><th scope=col>plot_type</th></tr></thead>\n",
       "<tbody>\n",
       "\t<tr><td>1                        </td><td>Spectab exclosure        </td></tr>\n",
       "\t<tr><td>2                        </td><td>Control                  </td></tr>\n",
       "\t<tr><td>3                        </td><td>Long-term Krat Exclosure </td></tr>\n",
       "\t<tr><td>4                        </td><td>Control                  </td></tr>\n",
       "\t<tr><td>5                        </td><td>Rodent Exclosure         </td></tr>\n",
       "\t<tr><td>6                        </td><td>Short-term Krat Exclosure</td></tr>\n",
       "</tbody>\n",
       "</table>\n"
      ],
      "text/latex": [
       "\\begin{tabular}{r|ll}\n",
       " plot\\_id & plot\\_type\\\\\n",
       "\\hline\n",
       "\t 1                         & Spectab exclosure        \\\\\n",
       "\t 2                         & Control                  \\\\\n",
       "\t 3                         & Long-term Krat Exclosure \\\\\n",
       "\t 4                         & Control                  \\\\\n",
       "\t 5                         & Rodent Exclosure         \\\\\n",
       "\t 6                         & Short-term Krat Exclosure\\\\\n",
       "\\end{tabular}\n"
      ],
      "text/markdown": [
       "\n",
       "plot_id | plot_type | \n",
       "|---|---|---|---|---|---|\n",
       "| 1                         | Spectab exclosure         | \n",
       "| 2                         | Control                   | \n",
       "| 3                         | Long-term Krat Exclosure  | \n",
       "| 4                         | Control                   | \n",
       "| 5                         | Rodent Exclosure          | \n",
       "| 6                         | Short-term Krat Exclosure | \n",
       "\n",
       "\n"
      ],
      "text/plain": [
       "  plot_id plot_type                \n",
       "1 1       Spectab exclosure        \n",
       "2 2       Control                  \n",
       "3 3       Long-term Krat Exclosure \n",
       "4 4       Control                  \n",
       "5 5       Rodent Exclosure         \n",
       "6 6       Short-term Krat Exclosure"
      ]
     },
     "metadata": {},
     "output_type": "display_data"
    }
   ],
   "source": [
    "nrow(species)\n",
    "head(species)\n",
    "nrow(surveys)\n",
    "head(surveys)\n",
    "nrow(plots)\n",
    "head(plots)"
   ]
  },
  {
   "cell_type": "markdown",
   "metadata": {},
   "source": [
    "## Creating a relational database\n",
    "\n",
    "* We start by creating the file/filename.\n",
    "* Then, we create a database connection, which accesses the file.\n",
    "* The db connection is the primary object we call throughout our code."
   ]
  },
  {
   "cell_type": "code",
   "execution_count": 9,
   "metadata": {},
   "outputs": [],
   "source": [
    "myDB <- \"wlf550.db\""
   ]
  },
  {
   "cell_type": "code",
   "execution_count": 38,
   "metadata": {},
   "outputs": [],
   "source": [
    "myConn <- dbConnect(drv = SQLite(), dbname= myDB)"
   ]
  },
  {
   "cell_type": "markdown",
   "metadata": {},
   "source": [
    "#### Writing a CSV to create a table"
   ]
  },
  {
   "cell_type": "code",
   "execution_count": 10,
   "metadata": {},
   "outputs": [],
   "source": [
    "dbWriteTable(myConn,\"species\",species)"
   ]
  },
  {
   "cell_type": "code",
   "execution_count": 11,
   "metadata": {},
   "outputs": [
    {
     "data": {
      "text/html": [
       "'species'"
      ],
      "text/latex": [
       "'species'"
      ],
      "text/markdown": [
       "'species'"
      ],
      "text/plain": [
       "[1] \"species\""
      ]
     },
     "metadata": {},
     "output_type": "display_data"
    }
   ],
   "source": [
    "dbListTables(myConn)"
   ]
  },
  {
   "cell_type": "code",
   "execution_count": 12,
   "metadata": {},
   "outputs": [],
   "source": [
    "dbWriteTable(myConn,\"surveys\",surveys)"
   ]
  },
  {
   "cell_type": "code",
   "execution_count": 13,
   "metadata": {},
   "outputs": [],
   "source": [
    "dbWriteTable(myConn,\"plots\",plots)"
   ]
  },
  {
   "cell_type": "code",
   "execution_count": 39,
   "metadata": {},
   "outputs": [
    {
     "data": {
      "text/html": [
       "<ol class=list-inline>\n",
       "\t<li>'plots'</li>\n",
       "\t<li>'species'</li>\n",
       "\t<li>'surveys'</li>\n",
       "</ol>\n"
      ],
      "text/latex": [
       "\\begin{enumerate*}\n",
       "\\item 'plots'\n",
       "\\item 'species'\n",
       "\\item 'surveys'\n",
       "\\end{enumerate*}\n"
      ],
      "text/markdown": [
       "1. 'plots'\n",
       "2. 'species'\n",
       "3. 'surveys'\n",
       "\n",
       "\n"
      ],
      "text/plain": [
       "[1] \"plots\"   \"species\" \"surveys\""
      ]
     },
     "metadata": {},
     "output_type": "display_data"
    }
   ],
   "source": [
    "dbListTables(myConn)"
   ]
  },
  {
   "cell_type": "markdown",
   "metadata": {},
   "source": [
    "#### Querying the Database using SQL\n",
    "\n",
    "\n",
    "SQL = Structured Query Language<br>\n",
    "(Adapted from: https://www.dofactory.com/sql/)\n",
    "\n",
    "* SELECT: The SELECT statement retrieves data from a database. The asterisk \\* means return everything from the matching row.<br>\n",
    "* FROM: The FROM term needs to be followed by the table-name.<br>\n",
    "* LIMIT: The LIMIT term places a restriction on how many results are to be returned, specified by an integer."
   ]
  },
  {
   "cell_type": "code",
   "execution_count": 15,
   "metadata": {},
   "outputs": [
    {
     "data": {
      "text/html": [
       "<table>\n",
       "<thead><tr><th scope=col>species_id</th><th scope=col>genus</th><th scope=col>species</th><th scope=col>taxa</th></tr></thead>\n",
       "<tbody>\n",
       "\t<tr><td>AB              </td><td>Amphispiza      </td><td>bilineata       </td><td>Bird            </td></tr>\n",
       "\t<tr><td>AH              </td><td>Ammospermophilus</td><td>harrisi         </td><td>Rodent          </td></tr>\n",
       "\t<tr><td>AS              </td><td>Ammodramus      </td><td>savannarum      </td><td>Bird            </td></tr>\n",
       "\t<tr><td>BA              </td><td>Baiomys         </td><td>taylori         </td><td>Rodent          </td></tr>\n",
       "\t<tr><td>CB              </td><td>Campylorhynchus </td><td>brunneicapillus </td><td>Bird            </td></tr>\n",
       "\t<tr><td>CM              </td><td>Calamospiza     </td><td>melanocorys     </td><td>Bird            </td></tr>\n",
       "\t<tr><td>CQ              </td><td>Callipepla      </td><td>squamata        </td><td>Bird            </td></tr>\n",
       "\t<tr><td>CS              </td><td>Crotalus        </td><td>scutalatus      </td><td>Reptile         </td></tr>\n",
       "\t<tr><td>CT              </td><td>Cnemidophorus   </td><td>tigris          </td><td>Reptile         </td></tr>\n",
       "\t<tr><td>CU              </td><td>Cnemidophorus   </td><td>uniparens       </td><td>Reptile         </td></tr>\n",
       "</tbody>\n",
       "</table>\n"
      ],
      "text/latex": [
       "\\begin{tabular}{r|llll}\n",
       " species\\_id & genus & species & taxa\\\\\n",
       "\\hline\n",
       "\t AB               & Amphispiza       & bilineata        & Bird            \\\\\n",
       "\t AH               & Ammospermophilus & harrisi          & Rodent          \\\\\n",
       "\t AS               & Ammodramus       & savannarum       & Bird            \\\\\n",
       "\t BA               & Baiomys          & taylori          & Rodent          \\\\\n",
       "\t CB               & Campylorhynchus  & brunneicapillus  & Bird            \\\\\n",
       "\t CM               & Calamospiza      & melanocorys      & Bird            \\\\\n",
       "\t CQ               & Callipepla       & squamata         & Bird            \\\\\n",
       "\t CS               & Crotalus         & scutalatus       & Reptile         \\\\\n",
       "\t CT               & Cnemidophorus    & tigris           & Reptile         \\\\\n",
       "\t CU               & Cnemidophorus    & uniparens        & Reptile         \\\\\n",
       "\\end{tabular}\n"
      ],
      "text/markdown": [
       "\n",
       "species_id | genus | species | taxa | \n",
       "|---|---|---|---|---|---|---|---|---|---|\n",
       "| AB               | Amphispiza       | bilineata        | Bird             | \n",
       "| AH               | Ammospermophilus | harrisi          | Rodent           | \n",
       "| AS               | Ammodramus       | savannarum       | Bird             | \n",
       "| BA               | Baiomys          | taylori          | Rodent           | \n",
       "| CB               | Campylorhynchus  | brunneicapillus  | Bird             | \n",
       "| CM               | Calamospiza      | melanocorys      | Bird             | \n",
       "| CQ               | Callipepla       | squamata         | Bird             | \n",
       "| CS               | Crotalus         | scutalatus       | Reptile          | \n",
       "| CT               | Cnemidophorus    | tigris           | Reptile          | \n",
       "| CU               | Cnemidophorus    | uniparens        | Reptile          | \n",
       "\n",
       "\n"
      ],
      "text/plain": [
       "   species_id genus            species         taxa   \n",
       "1  AB         Amphispiza       bilineata       Bird   \n",
       "2  AH         Ammospermophilus harrisi         Rodent \n",
       "3  AS         Ammodramus       savannarum      Bird   \n",
       "4  BA         Baiomys          taylori         Rodent \n",
       "5  CB         Campylorhynchus  brunneicapillus Bird   \n",
       "6  CM         Calamospiza      melanocorys     Bird   \n",
       "7  CQ         Callipepla       squamata        Bird   \n",
       "8  CS         Crotalus         scutalatus      Reptile\n",
       "9  CT         Cnemidophorus    tigris          Reptile\n",
       "10 CU         Cnemidophorus    uniparens       Reptile"
      ]
     },
     "metadata": {},
     "output_type": "display_data"
    }
   ],
   "source": [
    "# Query: retrieve all information from the first 10 rows of the species table\n",
    "\n",
    "dbGetQuery(myConn, \"SELECT * FROM species LIMIT 10\")"
   ]
  },
  {
   "cell_type": "code",
   "execution_count": 16,
   "metadata": {},
   "outputs": [],
   "source": [
    "tenSpeciesRows <- dbGetQuery(myConn, \"SELECT * FROM species LIMIT 10\")"
   ]
  },
  {
   "cell_type": "code",
   "execution_count": 17,
   "metadata": {},
   "outputs": [
    {
     "data": {
      "text/html": [
       "'list'"
      ],
      "text/latex": [
       "'list'"
      ],
      "text/markdown": [
       "'list'"
      ],
      "text/plain": [
       "[1] \"list\""
      ]
     },
     "metadata": {},
     "output_type": "display_data"
    },
    {
     "data": {
      "text/html": [
       "<ol class=list-inline>\n",
       "\t<li>10</li>\n",
       "\t<li>4</li>\n",
       "</ol>\n"
      ],
      "text/latex": [
       "\\begin{enumerate*}\n",
       "\\item 10\n",
       "\\item 4\n",
       "\\end{enumerate*}\n"
      ],
      "text/markdown": [
       "1. 10\n",
       "2. 4\n",
       "\n",
       "\n"
      ],
      "text/plain": [
       "[1] 10  4"
      ]
     },
     "metadata": {},
     "output_type": "display_data"
    }
   ],
   "source": [
    "typeof(tenSpeciesRows)\n",
    "dim(tenSpeciesRows)"
   ]
  },
  {
   "cell_type": "code",
   "execution_count": 18,
   "metadata": {},
   "outputs": [
    {
     "data": {
      "text/html": [
       "<ol class=list-inline>\n",
       "\t<li>'species_id'</li>\n",
       "\t<li>'genus'</li>\n",
       "\t<li>'species'</li>\n",
       "\t<li>'taxa'</li>\n",
       "</ol>\n"
      ],
      "text/latex": [
       "\\begin{enumerate*}\n",
       "\\item 'species\\_id'\n",
       "\\item 'genus'\n",
       "\\item 'species'\n",
       "\\item 'taxa'\n",
       "\\end{enumerate*}\n"
      ],
      "text/markdown": [
       "1. 'species_id'\n",
       "2. 'genus'\n",
       "3. 'species'\n",
       "4. 'taxa'\n",
       "\n",
       "\n"
      ],
      "text/plain": [
       "[1] \"species_id\" \"genus\"      \"species\"    \"taxa\"      "
      ]
     },
     "metadata": {},
     "output_type": "display_data"
    }
   ],
   "source": [
    "dbListFields(myConn, \"species\")"
   ]
  },
  {
   "cell_type": "code",
   "execution_count": 19,
   "metadata": {},
   "outputs": [
    {
     "data": {
      "text/html": [
       "<table>\n",
       "<thead><tr><th scope=col>record_id</th><th scope=col>month</th><th scope=col>day</th><th scope=col>year</th><th scope=col>plot_id</th><th scope=col>species_id</th><th scope=col>sex</th><th scope=col>hindfoot_length</th><th scope=col>weight</th></tr></thead>\n",
       "<tbody>\n",
       "\t<tr><td> 1  </td><td>7   </td><td>16  </td><td>1977</td><td>2   </td><td>NL  </td><td>M   </td><td>32  </td><td>NA  </td></tr>\n",
       "\t<tr><td> 2  </td><td>7   </td><td>16  </td><td>1977</td><td>3   </td><td>NL  </td><td>M   </td><td>33  </td><td>NA  </td></tr>\n",
       "\t<tr><td> 3  </td><td>7   </td><td>16  </td><td>1977</td><td>2   </td><td>DM  </td><td>F   </td><td>37  </td><td>NA  </td></tr>\n",
       "\t<tr><td> 4  </td><td>7   </td><td>16  </td><td>1977</td><td>7   </td><td>DM  </td><td>M   </td><td>36  </td><td>NA  </td></tr>\n",
       "\t<tr><td> 5  </td><td>7   </td><td>16  </td><td>1977</td><td>3   </td><td>DM  </td><td>M   </td><td>35  </td><td>NA  </td></tr>\n",
       "\t<tr><td> 6  </td><td>7   </td><td>16  </td><td>1977</td><td>1   </td><td>PF  </td><td>M   </td><td>14  </td><td>NA  </td></tr>\n",
       "\t<tr><td> 7  </td><td>7   </td><td>16  </td><td>1977</td><td>2   </td><td>PE  </td><td>F   </td><td>NA  </td><td>NA  </td></tr>\n",
       "\t<tr><td> 8  </td><td>7   </td><td>16  </td><td>1977</td><td>1   </td><td>DM  </td><td>M   </td><td>37  </td><td>NA  </td></tr>\n",
       "\t<tr><td> 9  </td><td>7   </td><td>16  </td><td>1977</td><td>1   </td><td>DM  </td><td>F   </td><td>34  </td><td>NA  </td></tr>\n",
       "\t<tr><td>10  </td><td>7   </td><td>16  </td><td>1977</td><td>6   </td><td>PF  </td><td>F   </td><td>20  </td><td>NA  </td></tr>\n",
       "</tbody>\n",
       "</table>\n"
      ],
      "text/latex": [
       "\\begin{tabular}{r|lllllllll}\n",
       " record\\_id & month & day & year & plot\\_id & species\\_id & sex & hindfoot\\_length & weight\\\\\n",
       "\\hline\n",
       "\t  1   & 7    & 16   & 1977 & 2    & NL   & M    & 32   & NA  \\\\\n",
       "\t  2   & 7    & 16   & 1977 & 3    & NL   & M    & 33   & NA  \\\\\n",
       "\t  3   & 7    & 16   & 1977 & 2    & DM   & F    & 37   & NA  \\\\\n",
       "\t  4   & 7    & 16   & 1977 & 7    & DM   & M    & 36   & NA  \\\\\n",
       "\t  5   & 7    & 16   & 1977 & 3    & DM   & M    & 35   & NA  \\\\\n",
       "\t  6   & 7    & 16   & 1977 & 1    & PF   & M    & 14   & NA  \\\\\n",
       "\t  7   & 7    & 16   & 1977 & 2    & PE   & F    & NA   & NA  \\\\\n",
       "\t  8   & 7    & 16   & 1977 & 1    & DM   & M    & 37   & NA  \\\\\n",
       "\t  9   & 7    & 16   & 1977 & 1    & DM   & F    & 34   & NA  \\\\\n",
       "\t 10   & 7    & 16   & 1977 & 6    & PF   & F    & 20   & NA  \\\\\n",
       "\\end{tabular}\n"
      ],
      "text/markdown": [
       "\n",
       "record_id | month | day | year | plot_id | species_id | sex | hindfoot_length | weight | \n",
       "|---|---|---|---|---|---|---|---|---|---|\n",
       "|  1   | 7    | 16   | 1977 | 2    | NL   | M    | 32   | NA   | \n",
       "|  2   | 7    | 16   | 1977 | 3    | NL   | M    | 33   | NA   | \n",
       "|  3   | 7    | 16   | 1977 | 2    | DM   | F    | 37   | NA   | \n",
       "|  4   | 7    | 16   | 1977 | 7    | DM   | M    | 36   | NA   | \n",
       "|  5   | 7    | 16   | 1977 | 3    | DM   | M    | 35   | NA   | \n",
       "|  6   | 7    | 16   | 1977 | 1    | PF   | M    | 14   | NA   | \n",
       "|  7   | 7    | 16   | 1977 | 2    | PE   | F    | NA   | NA   | \n",
       "|  8   | 7    | 16   | 1977 | 1    | DM   | M    | 37   | NA   | \n",
       "|  9   | 7    | 16   | 1977 | 1    | DM   | F    | 34   | NA   | \n",
       "| 10   | 7    | 16   | 1977 | 6    | PF   | F    | 20   | NA   | \n",
       "\n",
       "\n"
      ],
      "text/plain": [
       "   record_id month day year plot_id species_id sex hindfoot_length weight\n",
       "1   1        7     16  1977 2       NL         M   32              NA    \n",
       "2   2        7     16  1977 3       NL         M   33              NA    \n",
       "3   3        7     16  1977 2       DM         F   37              NA    \n",
       "4   4        7     16  1977 7       DM         M   36              NA    \n",
       "5   5        7     16  1977 3       DM         M   35              NA    \n",
       "6   6        7     16  1977 1       PF         M   14              NA    \n",
       "7   7        7     16  1977 2       PE         F   NA              NA    \n",
       "8   8        7     16  1977 1       DM         M   37              NA    \n",
       "9   9        7     16  1977 1       DM         F   34              NA    \n",
       "10 10        7     16  1977 6       PF         F   20              NA    "
      ]
     },
     "metadata": {},
     "output_type": "display_data"
    }
   ],
   "source": [
    "# Query: retrieve the record id number and the associated hindfoot length for the first 10 observations in the survey table.\n",
    "\n",
    "dbGetQuery(myConn, \"SELECT * FROM surveys LIMIT 10\")"
   ]
  },
  {
   "cell_type": "markdown",
   "metadata": {},
   "source": [
    "### Conditional Queries\n",
    "\n",
    "Select queries can operate against specific parameters.\n",
    "* WHERE: The WHERE term must be followed by a column-name, as in retrieve data where a field  matches a particular pattern.\n",
    "* CONDITIONS: Standard operators of =, >, <, etc. apply. Boolean operators of AND, OR, NOT also apply."
   ]
  },
  {
   "cell_type": "code",
   "execution_count": 21,
   "metadata": {},
   "outputs": [
    {
     "data": {
      "text/html": [
       "<table>\n",
       "<thead><tr><th scope=col>species_id</th><th scope=col>genus</th><th scope=col>species</th><th scope=col>taxa</th></tr></thead>\n",
       "<tbody>\n",
       "\t<tr><td>CS        </td><td>Crotalus  </td><td>scutalatus</td><td>Reptile   </td></tr>\n",
       "\t<tr><td>CV        </td><td>Crotalus  </td><td>viridis   </td><td>Reptile   </td></tr>\n",
       "</tbody>\n",
       "</table>\n"
      ],
      "text/latex": [
       "\\begin{tabular}{r|llll}\n",
       " species\\_id & genus & species & taxa\\\\\n",
       "\\hline\n",
       "\t CS         & Crotalus   & scutalatus & Reptile   \\\\\n",
       "\t CV         & Crotalus   & viridis    & Reptile   \\\\\n",
       "\\end{tabular}\n"
      ],
      "text/markdown": [
       "\n",
       "species_id | genus | species | taxa | \n",
       "|---|---|\n",
       "| CS         | Crotalus   | scutalatus | Reptile    | \n",
       "| CV         | Crotalus   | viridis    | Reptile    | \n",
       "\n",
       "\n"
      ],
      "text/plain": [
       "  species_id genus    species    taxa   \n",
       "1 CS         Crotalus scutalatus Reptile\n",
       "2 CV         Crotalus viridis    Reptile"
      ]
     },
     "metadata": {},
     "output_type": "display_data"
    }
   ],
   "source": [
    "# Query: retrieve all records from the surveys table where hindfoot length is greater than 20.\n",
    "# Query: retrieve all records from the species table where the genus starts with Crot.\n",
    "\n",
    "#dbGetQuery(myConn, \"SELECT * FROM surveys WHERE hindfoot_length > 20\")\n",
    "dbGetQuery(myConn, \"SELECT * FROM species WHERE genus LIKE '%Crot%'\")"
   ]
  },
  {
   "cell_type": "code",
   "execution_count": 22,
   "metadata": {},
   "outputs": [
    {
     "data": {
      "text/html": [
       "<table>\n",
       "<thead><tr><th scope=col>count(*)</th></tr></thead>\n",
       "<tbody>\n",
       "\t<tr><td>35549</td></tr>\n",
       "</tbody>\n",
       "</table>\n"
      ],
      "text/latex": [
       "\\begin{tabular}{r|l}\n",
       " count(*)\\\\\n",
       "\\hline\n",
       "\t 35549\\\\\n",
       "\\end{tabular}\n"
      ],
      "text/markdown": [
       "\n",
       "count(*) | \n",
       "|---|\n",
       "| 35549 | \n",
       "\n",
       "\n"
      ],
      "text/plain": [
       "  count(*)\n",
       "1 35549   "
      ]
     },
     "metadata": {},
     "output_type": "display_data"
    }
   ],
   "source": [
    "dbGetQuery(myConn,\"SELECT count(*) FROM surveys\")"
   ]
  },
  {
   "cell_type": "code",
   "execution_count": 23,
   "metadata": {},
   "outputs": [
    {
     "data": {
      "text/html": [
       "<table>\n",
       "<thead><tr><th scope=col>record_id</th><th scope=col>month</th><th scope=col>day</th><th scope=col>year</th><th scope=col>plot_id</th><th scope=col>species_id</th><th scope=col>sex</th><th scope=col>hindfoot_length</th><th scope=col>weight</th></tr></thead>\n",
       "<tbody>\n",
       "\t<tr><td>  18</td><td> 7  </td><td>16  </td><td>1977</td><td> 2  </td><td>PP  </td><td>M   </td><td>22  </td><td>NA  </td></tr>\n",
       "\t<tr><td>  29</td><td> 7  </td><td>17  </td><td>1977</td><td>11  </td><td>PP  </td><td>M   </td><td>NA  </td><td>NA  </td></tr>\n",
       "\t<tr><td>  49</td><td> 7  </td><td>18  </td><td>1977</td><td>12  </td><td>PP  </td><td>F   </td><td>17  </td><td>NA  </td></tr>\n",
       "\t<tr><td>  89</td><td> 8  </td><td>20  </td><td>1977</td><td>12  </td><td>PP  </td><td>F   </td><td>20  </td><td>15  </td></tr>\n",
       "\t<tr><td> 108</td><td> 8  </td><td>20  </td><td>1977</td><td>11  </td><td>PP  </td><td>M   </td><td>21  </td><td>NA  </td></tr>\n",
       "\t<tr><td> 163</td><td> 9  </td><td>11  </td><td>1977</td><td>12  </td><td>PP  </td><td>F   </td><td>21  </td><td>16  </td></tr>\n",
       "\t<tr><td> 217</td><td> 9  </td><td>13  </td><td>1977</td><td> 3  </td><td>PP  </td><td>F   </td><td>19  </td><td>15  </td></tr>\n",
       "\t<tr><td> 897</td><td> 5  </td><td>18  </td><td>1978</td><td>11  </td><td>PP  </td><td>M   </td><td>21  </td><td>15  </td></tr>\n",
       "\t<tr><td> 933</td><td> 5  </td><td>19  </td><td>1978</td><td> 2  </td><td>PP  </td><td>F   </td><td>20  </td><td>13  </td></tr>\n",
       "\t<tr><td> 981</td><td> 6  </td><td> 8  </td><td>1978</td><td>11  </td><td>PP  </td><td>M   </td><td>21  </td><td>15  </td></tr>\n",
       "\t<tr><td> 991</td><td> 6  </td><td> 9  </td><td>1978</td><td>13  </td><td>PP  </td><td>M   </td><td>23  </td><td>17  </td></tr>\n",
       "\t<tr><td>1032</td><td> 7  </td><td> 7  </td><td>1978</td><td>11  </td><td>PP  </td><td>M   </td><td>22  </td><td>16  </td></tr>\n",
       "\t<tr><td>1076</td><td> 7  </td><td> 8  </td><td>1978</td><td>15  </td><td>PP  </td><td>F   </td><td>21  </td><td>12  </td></tr>\n",
       "\t<tr><td>1078</td><td> 7  </td><td> 8  </td><td>1978</td><td>15  </td><td>PP  </td><td>F   </td><td>23  </td><td>10  </td></tr>\n",
       "\t<tr><td>1088</td><td> 7  </td><td> 8  </td><td>1978</td><td>14  </td><td>PP  </td><td>M   </td><td>23  </td><td>10  </td></tr>\n",
       "\t<tr><td>1116</td><td> 8  </td><td> 4  </td><td>1978</td><td>12  </td><td>PP  </td><td>M   </td><td>22  </td><td>18  </td></tr>\n",
       "\t<tr><td>1126</td><td> 8  </td><td> 4  </td><td>1978</td><td>20  </td><td>PP  </td><td>F   </td><td>22  </td><td>13  </td></tr>\n",
       "\t<tr><td>1135</td><td> 8  </td><td> 4  </td><td>1978</td><td>21  </td><td>PP  </td><td>M   </td><td>19  </td><td>14  </td></tr>\n",
       "\t<tr><td>1181</td><td> 8  </td><td> 5  </td><td>1978</td><td>15  </td><td>PP  </td><td>F   </td><td>21  </td><td>14  </td></tr>\n",
       "\t<tr><td>1201</td><td> 9  </td><td> 3  </td><td>1978</td><td>12  </td><td>PP  </td><td>M   </td><td>23  </td><td>19  </td></tr>\n",
       "\t<tr><td>1221</td><td> 9  </td><td> 3  </td><td>1978</td><td>11  </td><td>PP  </td><td>F   </td><td>22  </td><td>14  </td></tr>\n",
       "\t<tr><td>1227</td><td> 9  </td><td> 3  </td><td>1978</td><td>11  </td><td>PP  </td><td>M   </td><td>22  </td><td>13  </td></tr>\n",
       "\t<tr><td>1236</td><td> 9  </td><td> 3  </td><td>1978</td><td>21  </td><td>PP  </td><td>M   </td><td>22  </td><td>15  </td></tr>\n",
       "\t<tr><td>1257</td><td> 9  </td><td> 4  </td><td>1978</td><td> 3  </td><td>PP  </td><td>F   </td><td>21  </td><td>13  </td></tr>\n",
       "\t<tr><td>1264</td><td> 9  </td><td> 4  </td><td>1978</td><td>15  </td><td>PP  </td><td>F   </td><td>20  </td><td>15  </td></tr>\n",
       "\t<tr><td>1294</td><td> 9  </td><td> 4  </td><td>1978</td><td> 2  </td><td>PP  </td><td>M   </td><td>21  </td><td>19  </td></tr>\n",
       "\t<tr><td>1318</td><td>10  </td><td> 7  </td><td>1978</td><td>11  </td><td>PP  </td><td>F   </td><td>21  </td><td>15  </td></tr>\n",
       "\t<tr><td>1352</td><td>10  </td><td> 8  </td><td>1978</td><td> 3  </td><td>PP  </td><td>F   </td><td>22  </td><td>NA  </td></tr>\n",
       "\t<tr><td>1368</td><td>10  </td><td> 8  </td><td>1978</td><td>15  </td><td>PP  </td><td>F   </td><td>21  </td><td>16  </td></tr>\n",
       "\t<tr><td>1375</td><td>10  </td><td> 8  </td><td>1978</td><td>13  </td><td>PP  </td><td>M   </td><td>23  </td><td>20  </td></tr>\n",
       "\t<tr><td>1378</td><td>10  </td><td> 8  </td><td>1978</td><td>18  </td><td>PP  </td><td>M   </td><td>21  </td><td>16  </td></tr>\n",
       "\t<tr><td>1757</td><td> 4  </td><td>29  </td><td>1979</td><td>15  </td><td>PP  </td><td>F   </td><td>21  </td><td>15  </td></tr>\n",
       "\t<tr><td>1789</td><td> 5  </td><td>29  </td><td>1979</td><td>20  </td><td>PP  </td><td>M   </td><td>21  </td><td>20  </td></tr>\n",
       "\t<tr><td>1823</td><td> 5  </td><td>30  </td><td>1979</td><td>15  </td><td>PP  </td><td>F   </td><td>22  </td><td>NA  </td></tr>\n",
       "\t<tr><td>1842</td><td> 5  </td><td>30  </td><td>1979</td><td>15  </td><td>PP  </td><td>M   </td><td>22  </td><td>20  </td></tr>\n",
       "\t<tr><td>1884</td><td> 7  </td><td> 4  </td><td>1979</td><td>15  </td><td>PP  </td><td>F   </td><td>22  </td><td>14  </td></tr>\n",
       "\t<tr><td>1895</td><td> 7  </td><td> 4  </td><td>1979</td><td>15  </td><td>PP  </td><td>F   </td><td>20  </td><td>16  </td></tr>\n",
       "\t<tr><td>1898</td><td> 7  </td><td> 4  </td><td>1979</td><td> 2  </td><td>PP  </td><td>M   </td><td>20  </td><td>10  </td></tr>\n",
       "\t<tr><td>1940</td><td> 7  </td><td>25  </td><td>1979</td><td>11  </td><td>PP  </td><td>M   </td><td>22  </td><td>16  </td></tr>\n",
       "\t<tr><td>1946</td><td> 7  </td><td>26  </td><td>1979</td><td>15  </td><td>PP  </td><td>F   </td><td>22  </td><td>16  </td></tr>\n",
       "</tbody>\n",
       "</table>\n"
      ],
      "text/latex": [
       "\\begin{tabular}{r|lllllllll}\n",
       " record\\_id & month & day & year & plot\\_id & species\\_id & sex & hindfoot\\_length & weight\\\\\n",
       "\\hline\n",
       "\t   18 &  7   & 16   & 1977 &  2   & PP   & M    & 22   & NA  \\\\\n",
       "\t   29 &  7   & 17   & 1977 & 11   & PP   & M    & NA   & NA  \\\\\n",
       "\t   49 &  7   & 18   & 1977 & 12   & PP   & F    & 17   & NA  \\\\\n",
       "\t   89 &  8   & 20   & 1977 & 12   & PP   & F    & 20   & 15  \\\\\n",
       "\t  108 &  8   & 20   & 1977 & 11   & PP   & M    & 21   & NA  \\\\\n",
       "\t  163 &  9   & 11   & 1977 & 12   & PP   & F    & 21   & 16  \\\\\n",
       "\t  217 &  9   & 13   & 1977 &  3   & PP   & F    & 19   & 15  \\\\\n",
       "\t  897 &  5   & 18   & 1978 & 11   & PP   & M    & 21   & 15  \\\\\n",
       "\t  933 &  5   & 19   & 1978 &  2   & PP   & F    & 20   & 13  \\\\\n",
       "\t  981 &  6   &  8   & 1978 & 11   & PP   & M    & 21   & 15  \\\\\n",
       "\t  991 &  6   &  9   & 1978 & 13   & PP   & M    & 23   & 17  \\\\\n",
       "\t 1032 &  7   &  7   & 1978 & 11   & PP   & M    & 22   & 16  \\\\\n",
       "\t 1076 &  7   &  8   & 1978 & 15   & PP   & F    & 21   & 12  \\\\\n",
       "\t 1078 &  7   &  8   & 1978 & 15   & PP   & F    & 23   & 10  \\\\\n",
       "\t 1088 &  7   &  8   & 1978 & 14   & PP   & M    & 23   & 10  \\\\\n",
       "\t 1116 &  8   &  4   & 1978 & 12   & PP   & M    & 22   & 18  \\\\\n",
       "\t 1126 &  8   &  4   & 1978 & 20   & PP   & F    & 22   & 13  \\\\\n",
       "\t 1135 &  8   &  4   & 1978 & 21   & PP   & M    & 19   & 14  \\\\\n",
       "\t 1181 &  8   &  5   & 1978 & 15   & PP   & F    & 21   & 14  \\\\\n",
       "\t 1201 &  9   &  3   & 1978 & 12   & PP   & M    & 23   & 19  \\\\\n",
       "\t 1221 &  9   &  3   & 1978 & 11   & PP   & F    & 22   & 14  \\\\\n",
       "\t 1227 &  9   &  3   & 1978 & 11   & PP   & M    & 22   & 13  \\\\\n",
       "\t 1236 &  9   &  3   & 1978 & 21   & PP   & M    & 22   & 15  \\\\\n",
       "\t 1257 &  9   &  4   & 1978 &  3   & PP   & F    & 21   & 13  \\\\\n",
       "\t 1264 &  9   &  4   & 1978 & 15   & PP   & F    & 20   & 15  \\\\\n",
       "\t 1294 &  9   &  4   & 1978 &  2   & PP   & M    & 21   & 19  \\\\\n",
       "\t 1318 & 10   &  7   & 1978 & 11   & PP   & F    & 21   & 15  \\\\\n",
       "\t 1352 & 10   &  8   & 1978 &  3   & PP   & F    & 22   & NA  \\\\\n",
       "\t 1368 & 10   &  8   & 1978 & 15   & PP   & F    & 21   & 16  \\\\\n",
       "\t 1375 & 10   &  8   & 1978 & 13   & PP   & M    & 23   & 20  \\\\\n",
       "\t 1378 & 10   &  8   & 1978 & 18   & PP   & M    & 21   & 16  \\\\\n",
       "\t 1757 &  4   & 29   & 1979 & 15   & PP   & F    & 21   & 15  \\\\\n",
       "\t 1789 &  5   & 29   & 1979 & 20   & PP   & M    & 21   & 20  \\\\\n",
       "\t 1823 &  5   & 30   & 1979 & 15   & PP   & F    & 22   & NA  \\\\\n",
       "\t 1842 &  5   & 30   & 1979 & 15   & PP   & M    & 22   & 20  \\\\\n",
       "\t 1884 &  7   &  4   & 1979 & 15   & PP   & F    & 22   & 14  \\\\\n",
       "\t 1895 &  7   &  4   & 1979 & 15   & PP   & F    & 20   & 16  \\\\\n",
       "\t 1898 &  7   &  4   & 1979 &  2   & PP   & M    & 20   & 10  \\\\\n",
       "\t 1940 &  7   & 25   & 1979 & 11   & PP   & M    & 22   & 16  \\\\\n",
       "\t 1946 &  7   & 26   & 1979 & 15   & PP   & F    & 22   & 16  \\\\\n",
       "\\end{tabular}\n"
      ],
      "text/markdown": [
       "\n",
       "record_id | month | day | year | plot_id | species_id | sex | hindfoot_length | weight | \n",
       "|---|---|---|---|---|---|---|---|---|---|---|---|---|---|---|---|---|---|---|---|---|---|---|---|---|---|---|---|---|---|---|---|---|---|---|---|---|---|---|---|\n",
       "|   18 |  7   | 16   | 1977 |  2   | PP   | M    | 22   | NA   | \n",
       "|   29 |  7   | 17   | 1977 | 11   | PP   | M    | NA   | NA   | \n",
       "|   49 |  7   | 18   | 1977 | 12   | PP   | F    | 17   | NA   | \n",
       "|   89 |  8   | 20   | 1977 | 12   | PP   | F    | 20   | 15   | \n",
       "|  108 |  8   | 20   | 1977 | 11   | PP   | M    | 21   | NA   | \n",
       "|  163 |  9   | 11   | 1977 | 12   | PP   | F    | 21   | 16   | \n",
       "|  217 |  9   | 13   | 1977 |  3   | PP   | F    | 19   | 15   | \n",
       "|  897 |  5   | 18   | 1978 | 11   | PP   | M    | 21   | 15   | \n",
       "|  933 |  5   | 19   | 1978 |  2   | PP   | F    | 20   | 13   | \n",
       "|  981 |  6   |  8   | 1978 | 11   | PP   | M    | 21   | 15   | \n",
       "|  991 |  6   |  9   | 1978 | 13   | PP   | M    | 23   | 17   | \n",
       "| 1032 |  7   |  7   | 1978 | 11   | PP   | M    | 22   | 16   | \n",
       "| 1076 |  7   |  8   | 1978 | 15   | PP   | F    | 21   | 12   | \n",
       "| 1078 |  7   |  8   | 1978 | 15   | PP   | F    | 23   | 10   | \n",
       "| 1088 |  7   |  8   | 1978 | 14   | PP   | M    | 23   | 10   | \n",
       "| 1116 |  8   |  4   | 1978 | 12   | PP   | M    | 22   | 18   | \n",
       "| 1126 |  8   |  4   | 1978 | 20   | PP   | F    | 22   | 13   | \n",
       "| 1135 |  8   |  4   | 1978 | 21   | PP   | M    | 19   | 14   | \n",
       "| 1181 |  8   |  5   | 1978 | 15   | PP   | F    | 21   | 14   | \n",
       "| 1201 |  9   |  3   | 1978 | 12   | PP   | M    | 23   | 19   | \n",
       "| 1221 |  9   |  3   | 1978 | 11   | PP   | F    | 22   | 14   | \n",
       "| 1227 |  9   |  3   | 1978 | 11   | PP   | M    | 22   | 13   | \n",
       "| 1236 |  9   |  3   | 1978 | 21   | PP   | M    | 22   | 15   | \n",
       "| 1257 |  9   |  4   | 1978 |  3   | PP   | F    | 21   | 13   | \n",
       "| 1264 |  9   |  4   | 1978 | 15   | PP   | F    | 20   | 15   | \n",
       "| 1294 |  9   |  4   | 1978 |  2   | PP   | M    | 21   | 19   | \n",
       "| 1318 | 10   |  7   | 1978 | 11   | PP   | F    | 21   | 15   | \n",
       "| 1352 | 10   |  8   | 1978 |  3   | PP   | F    | 22   | NA   | \n",
       "| 1368 | 10   |  8   | 1978 | 15   | PP   | F    | 21   | 16   | \n",
       "| 1375 | 10   |  8   | 1978 | 13   | PP   | M    | 23   | 20   | \n",
       "| 1378 | 10   |  8   | 1978 | 18   | PP   | M    | 21   | 16   | \n",
       "| 1757 |  4   | 29   | 1979 | 15   | PP   | F    | 21   | 15   | \n",
       "| 1789 |  5   | 29   | 1979 | 20   | PP   | M    | 21   | 20   | \n",
       "| 1823 |  5   | 30   | 1979 | 15   | PP   | F    | 22   | NA   | \n",
       "| 1842 |  5   | 30   | 1979 | 15   | PP   | M    | 22   | 20   | \n",
       "| 1884 |  7   |  4   | 1979 | 15   | PP   | F    | 22   | 14   | \n",
       "| 1895 |  7   |  4   | 1979 | 15   | PP   | F    | 20   | 16   | \n",
       "| 1898 |  7   |  4   | 1979 |  2   | PP   | M    | 20   | 10   | \n",
       "| 1940 |  7   | 25   | 1979 | 11   | PP   | M    | 22   | 16   | \n",
       "| 1946 |  7   | 26   | 1979 | 15   | PP   | F    | 22   | 16   | \n",
       "\n",
       "\n"
      ],
      "text/plain": [
       "   record_id month day year plot_id species_id sex hindfoot_length weight\n",
       "1    18       7    16  1977  2      PP         M   22              NA    \n",
       "2    29       7    17  1977 11      PP         M   NA              NA    \n",
       "3    49       7    18  1977 12      PP         F   17              NA    \n",
       "4    89       8    20  1977 12      PP         F   20              15    \n",
       "5   108       8    20  1977 11      PP         M   21              NA    \n",
       "6   163       9    11  1977 12      PP         F   21              16    \n",
       "7   217       9    13  1977  3      PP         F   19              15    \n",
       "8   897       5    18  1978 11      PP         M   21              15    \n",
       "9   933       5    19  1978  2      PP         F   20              13    \n",
       "10  981       6     8  1978 11      PP         M   21              15    \n",
       "11  991       6     9  1978 13      PP         M   23              17    \n",
       "12 1032       7     7  1978 11      PP         M   22              16    \n",
       "13 1076       7     8  1978 15      PP         F   21              12    \n",
       "14 1078       7     8  1978 15      PP         F   23              10    \n",
       "15 1088       7     8  1978 14      PP         M   23              10    \n",
       "16 1116       8     4  1978 12      PP         M   22              18    \n",
       "17 1126       8     4  1978 20      PP         F   22              13    \n",
       "18 1135       8     4  1978 21      PP         M   19              14    \n",
       "19 1181       8     5  1978 15      PP         F   21              14    \n",
       "20 1201       9     3  1978 12      PP         M   23              19    \n",
       "21 1221       9     3  1978 11      PP         F   22              14    \n",
       "22 1227       9     3  1978 11      PP         M   22              13    \n",
       "23 1236       9     3  1978 21      PP         M   22              15    \n",
       "24 1257       9     4  1978  3      PP         F   21              13    \n",
       "25 1264       9     4  1978 15      PP         F   20              15    \n",
       "26 1294       9     4  1978  2      PP         M   21              19    \n",
       "27 1318      10     7  1978 11      PP         F   21              15    \n",
       "28 1352      10     8  1978  3      PP         F   22              NA    \n",
       "29 1368      10     8  1978 15      PP         F   21              16    \n",
       "30 1375      10     8  1978 13      PP         M   23              20    \n",
       "31 1378      10     8  1978 18      PP         M   21              16    \n",
       "32 1757       4    29  1979 15      PP         F   21              15    \n",
       "33 1789       5    29  1979 20      PP         M   21              20    \n",
       "34 1823       5    30  1979 15      PP         F   22              NA    \n",
       "35 1842       5    30  1979 15      PP         M   22              20    \n",
       "36 1884       7     4  1979 15      PP         F   22              14    \n",
       "37 1895       7     4  1979 15      PP         F   20              16    \n",
       "38 1898       7     4  1979  2      PP         M   20              10    \n",
       "39 1940       7    25  1979 11      PP         M   22              16    \n",
       "40 1946       7    26  1979 15      PP         F   22              16    "
      ]
     },
     "metadata": {},
     "output_type": "display_data"
    }
   ],
   "source": [
    "dbGetQuery(myConn, \"SELECT * FROM surveys WHERE species_id = 'PP' LIMIT 40\")\n",
    "#dbGetQuery(myConn, \"SELECT * FROM species LIMIT 40\")"
   ]
  },
  {
   "cell_type": "markdown",
   "metadata": {},
   "source": [
    "### SQL Joins\n",
    "More Resources: https://www.dofactory.com/sql/join\n",
    "\n",
    "JOINs combine records from two tables. For example,  you might want to subset some data from table A and append to it associated data from table B.\n",
    "\n",
    "Below are ways to think about the different types of JOINs. The most common is the INNER JOIN.\n",
    "\n",
    "<img src=\"https://www.dofactory.com/Images/sql-joins.png\" style=\"background-color:white\">\n",
    "\n"
   ]
  },
  {
   "cell_type": "markdown",
   "metadata": {},
   "source": [
    "#### Query:  Retrieve the genera where observed hindfoot length is less than 20."
   ]
  },
  {
   "cell_type": "code",
   "execution_count": 26,
   "metadata": {},
   "outputs": [],
   "source": [
    "query_species <- \"SELECT genus FROM surveys WHERE hindfoot_length < 20\""
   ]
  },
  {
   "cell_type": "code",
   "execution_count": 27,
   "metadata": {},
   "outputs": [
    {
     "ename": "ERROR",
     "evalue": "Error in rsqlite_send_query(conn@ptr, statement): no such column: genus\n",
     "execution_count": 27,
     "output_type": "error",
     "traceback": [
      "Error in rsqlite_send_query(conn@ptr, statement): no such column: genus\nTraceback:\n",
      "1. dbGetQuery(myConn, query_species)",
      "2. dbGetQuery(myConn, query_species)",
      "3. .local(conn, statement, ...)",
      "4. dbSendQuery(conn, statement, ...)",
      "5. dbSendQuery(conn, statement, ...)",
      "6. .local(conn, statement, ...)",
      "7. new(\"SQLiteResult\", sql = statement, ptr = rsqlite_send_query(conn@ptr, \n .     statement), conn = conn)",
      "8. initialize(value, ...)",
      "9. initialize(value, ...)",
      "10. rsqlite_send_query(conn@ptr, statement)"
     ]
    }
   ],
   "source": [
    "dbGetQuery(myConn, query_species)"
   ]
  },
  {
   "cell_type": "code",
   "execution_count": 30,
   "metadata": {},
   "outputs": [],
   "source": [
    "query_species <- \"\n",
    "SELECT species.genus, count(*)\n",
    "FROM species \n",
    "JOIN surveys\n",
    "ON species.species_id = surveys.species_id\n",
    "WHERE surveys.hindfoot_length < 20\n",
    "GROUP BY species.genus\""
   ]
  },
  {
   "cell_type": "code",
   "execution_count": 31,
   "metadata": {},
   "outputs": [
    {
     "data": {
      "text/html": [
       "<table>\n",
       "<thead><tr><th scope=col>genus</th><th scope=col>count(*)</th></tr></thead>\n",
       "<tbody>\n",
       "\t<tr><td>Baiomys        </td><td>  45           </td></tr>\n",
       "\t<tr><td>Chaetodipus    </td><td>  88           </td></tr>\n",
       "\t<tr><td>Dipodomys      </td><td>   1           </td></tr>\n",
       "\t<tr><td>Onychomys      </td><td> 509           </td></tr>\n",
       "\t<tr><td>Perognathus    </td><td>1475           </td></tr>\n",
       "\t<tr><td>Peromyscus     </td><td> 399           </td></tr>\n",
       "\t<tr><td>Reithrodontomys</td><td>2515           </td></tr>\n",
       "\t<tr><td>Sigmodon       </td><td>   2           </td></tr>\n",
       "</tbody>\n",
       "</table>\n"
      ],
      "text/latex": [
       "\\begin{tabular}{r|ll}\n",
       " genus & count(*)\\\\\n",
       "\\hline\n",
       "\t Baiomys         &   45           \\\\\n",
       "\t Chaetodipus     &   88           \\\\\n",
       "\t Dipodomys       &    1           \\\\\n",
       "\t Onychomys       &  509           \\\\\n",
       "\t Perognathus     & 1475           \\\\\n",
       "\t Peromyscus      &  399           \\\\\n",
       "\t Reithrodontomys & 2515           \\\\\n",
       "\t Sigmodon        &    2           \\\\\n",
       "\\end{tabular}\n"
      ],
      "text/markdown": [
       "\n",
       "genus | count(*) | \n",
       "|---|---|---|---|---|---|---|---|\n",
       "| Baiomys         |   45            | \n",
       "| Chaetodipus     |   88            | \n",
       "| Dipodomys       |    1            | \n",
       "| Onychomys       |  509            | \n",
       "| Perognathus     | 1475            | \n",
       "| Peromyscus      |  399            | \n",
       "| Reithrodontomys | 2515            | \n",
       "| Sigmodon        |    2            | \n",
       "\n",
       "\n"
      ],
      "text/plain": [
       "  genus           count(*)\n",
       "1 Baiomys           45    \n",
       "2 Chaetodipus       88    \n",
       "3 Dipodomys          1    \n",
       "4 Onychomys        509    \n",
       "5 Perognathus     1475    \n",
       "6 Peromyscus       399    \n",
       "7 Reithrodontomys 2515    \n",
       "8 Sigmodon           2    "
      ]
     },
     "metadata": {},
     "output_type": "display_data"
    }
   ],
   "source": [
    "dbGetQuery(myConn, query_species)"
   ]
  },
  {
   "cell_type": "markdown",
   "metadata": {},
   "source": [
    "#### Query:  Retrieve the count of each genus for each plot type"
   ]
  },
  {
   "cell_type": "code",
   "execution_count": 32,
   "metadata": {},
   "outputs": [],
   "source": [
    "plotType_query <- \"SELECT d.plot_type, c.genus, count(*) AS count\n",
    "FROM\n",
    "(SELECT a.genus, b.plot_id\n",
    "FROM species a\n",
    "JOIN surveys b\n",
    "ON a.species_id = b.species_id) c\n",
    "JOIN plots d\n",
    "ON c.plot_id = d.plot_id\n",
    "GROUP BY d.plot_type, c.genus\n",
    "ORDER BY d.plot_type, count DESC\""
   ]
  },
  {
   "cell_type": "code",
   "execution_count": 33,
   "metadata": {},
   "outputs": [],
   "source": [
    "plotType_query <- \"SELECT d.plot_type, c.genus, count(*) AS count\n",
    "FROM\n",
    "(SELECT a.genus, b.plot_id\n",
    "FROM species a\n",
    "JOIN surveys b\n",
    "ON a.species_id = b.species_id) c\n",
    "JOIN plots d\n",
    "ON c.plot_id = d.plot_id\n",
    "GROUP BY d.plot_type, c.genus\n",
    "ORDER BY d.plot_type, count DESC\""
   ]
  },
  {
   "cell_type": "code",
   "execution_count": null,
   "metadata": {},
   "outputs": [],
   "source": [
    "result <- dbGetQuery(myConn, plotType_query)\n",
    "result"
   ]
  },
  {
   "cell_type": "markdown",
   "metadata": {},
   "source": [
    "#### Query: For every other year in the dataset, return the number of observations of rodents"
   ]
  },
  {
   "cell_type": "code",
   "execution_count": 35,
   "metadata": {},
   "outputs": [],
   "source": [
    "yearRange <- dbGetQuery(myConn, \"SELECT min(year),max(year) FROM surveys\")\n",
    "years <- seq(yearRange[,1],yearRange[,2],by=2)"
   ]
  },
  {
   "cell_type": "code",
   "execution_count": 36,
   "metadata": {},
   "outputs": [
    {
     "data": {
      "text/html": [
       "<table>\n",
       "<thead><tr><th scope=col>year</th><th scope=col>taxa</th><th scope=col>count</th></tr></thead>\n",
       "<tbody>\n",
       "\t<tr><td>1977  </td><td>Rodent</td><td> 487  </td></tr>\n",
       "\t<tr><td>1979  </td><td>Rodent</td><td> 658  </td></tr>\n",
       "\t<tr><td>1981  </td><td>Rodent</td><td>1394  </td></tr>\n",
       "\t<tr><td>1983  </td><td>Rodent</td><td>1594  </td></tr>\n",
       "\t<tr><td>1985  </td><td>Rodent</td><td>1398  </td></tr>\n",
       "\t<tr><td>1987  </td><td>Rodent</td><td>1618  </td></tr>\n",
       "\t<tr><td>1989  </td><td>Rodent</td><td>1522  </td></tr>\n",
       "\t<tr><td>1991  </td><td>Rodent</td><td>1306  </td></tr>\n",
       "\t<tr><td>1993  </td><td>Rodent</td><td> 697  </td></tr>\n",
       "\t<tr><td>1995  </td><td>Rodent</td><td>1168  </td></tr>\n",
       "\t<tr><td>1997  </td><td>Rodent</td><td>2488  </td></tr>\n",
       "\t<tr><td>1999  </td><td>Rodent</td><td>1108  </td></tr>\n",
       "\t<tr><td>2001  </td><td>Rodent</td><td>1536  </td></tr>\n",
       "</tbody>\n",
       "</table>\n"
      ],
      "text/latex": [
       "\\begin{tabular}{r|lll}\n",
       " year & taxa & count\\\\\n",
       "\\hline\n",
       "\t 1977   & Rodent &  487  \\\\\n",
       "\t 1979   & Rodent &  658  \\\\\n",
       "\t 1981   & Rodent & 1394  \\\\\n",
       "\t 1983   & Rodent & 1594  \\\\\n",
       "\t 1985   & Rodent & 1398  \\\\\n",
       "\t 1987   & Rodent & 1618  \\\\\n",
       "\t 1989   & Rodent & 1522  \\\\\n",
       "\t 1991   & Rodent & 1306  \\\\\n",
       "\t 1993   & Rodent &  697  \\\\\n",
       "\t 1995   & Rodent & 1168  \\\\\n",
       "\t 1997   & Rodent & 2488  \\\\\n",
       "\t 1999   & Rodent & 1108  \\\\\n",
       "\t 2001   & Rodent & 1536  \\\\\n",
       "\\end{tabular}\n"
      ],
      "text/markdown": [
       "\n",
       "year | taxa | count | \n",
       "|---|---|---|---|---|---|---|---|---|---|---|---|---|\n",
       "| 1977   | Rodent |  487   | \n",
       "| 1979   | Rodent |  658   | \n",
       "| 1981   | Rodent | 1394   | \n",
       "| 1983   | Rodent | 1594   | \n",
       "| 1985   | Rodent | 1398   | \n",
       "| 1987   | Rodent | 1618   | \n",
       "| 1989   | Rodent | 1522   | \n",
       "| 1991   | Rodent | 1306   | \n",
       "| 1993   | Rodent |  697   | \n",
       "| 1995   | Rodent | 1168   | \n",
       "| 1997   | Rodent | 2488   | \n",
       "| 1999   | Rodent | 1108   | \n",
       "| 2001   | Rodent | 1536   | \n",
       "\n",
       "\n"
      ],
      "text/plain": [
       "   year taxa   count\n",
       "1  1977 Rodent  487 \n",
       "2  1979 Rodent  658 \n",
       "3  1981 Rodent 1394 \n",
       "4  1983 Rodent 1594 \n",
       "5  1985 Rodent 1398 \n",
       "6  1987 Rodent 1618 \n",
       "7  1989 Rodent 1522 \n",
       "8  1991 Rodent 1306 \n",
       "9  1993 Rodent  697 \n",
       "10 1995 Rodent 1168 \n",
       "11 1997 Rodent 2488 \n",
       "12 1999 Rodent 1108 \n",
       "13 2001 Rodent 1536 "
      ]
     },
     "metadata": {},
     "output_type": "display_data"
    }
   ],
   "source": [
    "year_query <- paste(\"\n",
    "SELECT a.year, b.taxa, count(*) as count\n",
    "FROM surveys AS a\n",
    "JOIN species AS b\n",
    "ON a.species_id = b.species_id\n",
    "AND b.taxa = 'Rodent'\n",
    "AND a.year in (\",\n",
    "paste(years,collapse=\",\")\n",
    ",\")\n",
    "GROUP BY a.year, b.taxa\",\n",
    "sep = \"\")\n",
    "\n",
    "rCount <- dbGetQuery(myConn, year_query)\n",
    "rCount"
   ]
  },
  {
   "cell_type": "code",
   "execution_count": 145,
   "metadata": {},
   "outputs": [],
   "source": [
    "write.csv(rCount,\"2020-03-03_WLF550_programmaticQueryResult.csv\", row.names = FALSE)"
   ]
  },
  {
   "cell_type": "code",
   "execution_count": 37,
   "metadata": {},
   "outputs": [],
   "source": [
    "dbDisconnect(myConn)"
   ]
  },
  {
   "cell_type": "code",
   "execution_count": null,
   "metadata": {},
   "outputs": [],
   "source": []
  }
 ],
 "metadata": {
  "kernelspec": {
   "display_name": "R",
   "language": "R",
   "name": "ir"
  },
  "language_info": {
   "codemirror_mode": "r",
   "file_extension": ".r",
   "mimetype": "text/x-r-source",
   "name": "R",
   "pygments_lexer": "r",
   "version": "3.4.3"
  }
 },
 "nbformat": 4,
 "nbformat_minor": 2
}
